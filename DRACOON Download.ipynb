{
 "cells": [
  {
   "cell_type": "code",
   "execution_count": 85,
   "metadata": {},
   "outputs": [],
   "source": [
    "import sys, os\n",
    "import yaml\n",
    "import json\n",
    "import requests\n",
    "import shutil"
   ]
  },
  {
   "cell_type": "code",
   "execution_count": 46,
   "metadata": {},
   "outputs": [],
   "source": [
    "path = '/api/v4'"
   ]
  },
  {
   "cell_type": "code",
   "execution_count": 51,
   "metadata": {},
   "outputs": [],
   "source": [
    "conf_file = 'conf/dracoon.yml'\n",
    "has_conf_file = os.path.isfile(conf_file)\n",
    "if has_conf_file:\n",
    "    with open(conf_file, 'r') as stream:\n",
    "        try:\n",
    "            conf = yaml.load(stream)\n",
    "        except yaml.YAMLError as err:\n",
    "            print(f\"ERROR: can't read {conf_file}\")\n",
    "else:\n",
    "    print(f\"ERROR: file {conf_file} doesn't exist\")"
   ]
  },
  {
   "cell_type": "code",
   "execution_count": 68,
   "metadata": {},
   "outputs": [],
   "source": [
    "def login():\n",
    "    api = '/auth/login'\n",
    "    url = f\"{conf['url']}{path}{api}\"\n",
    "    data = json.dumps({\n",
    "        'login': conf['user'],\n",
    "        'password': conf['pass'],\n",
    "        'authType': 'sql'\n",
    "    })\n",
    "    headers = {\n",
    "        'Content-Type': 'application/json;charset=UTF-8',\n",
    "        'Accept': 'application/json;charset=UTF-8'\n",
    "    }\n",
    "    res = requests.post(url, data=data, headers=headers)\n",
    "    data = json.loads(res.text)\n",
    "    return data['token']\n",
    "\n",
    "token = ''\n",
    "if 'token' in conf.keys():\n",
    "    token = conf['token']\n",
    "else:\n",
    "    token = login()"
   ]
  },
  {
   "cell_type": "code",
   "execution_count": 71,
   "metadata": {},
   "outputs": [],
   "source": [
    "def get_sub_nodes(id):\n",
    "    api = \"/nodes\"\n",
    "    query = f\"?parent_id={id}\"\n",
    "    url = f\"{conf['url']}{path}{api}{query}\"\n",
    "    headers = {'X-Sds-Auth-Token': token}\n",
    "    res = requests.get(url, headers=headers)\n",
    "    data = json.loads(res.text)\n",
    "    return data['items']"
   ]
  },
  {
   "cell_type": "code",
   "execution_count": 78,
   "metadata": {},
   "outputs": [],
   "source": [
    "def get_node_id(path, opt=None):\n",
    "    id = 0\n",
    "    node = None\n",
    "    path_parts = path.split('/') # remove potentially empty positions\n",
    "    must_be_file = False # opt['must_be_file'] || false\n",
    "    \n",
    "    for path_part in path_parts:\n",
    "        nodes = get_sub_nodes(id)\n",
    "        found = False\n",
    "        for node in nodes:\n",
    "            if node['name'] == path_part:\n",
    "                id = node['id']\n",
    "                found = True\n",
    "                break\n",
    "        if not found:\n",
    "            print(\"ERROR: Invalid resource path {path}. (File could not be found.)\")\n",
    "    if must_be_file and node[\"type\"] != \"file\":\n",
    "        print(\"ERRPR: Invalid resource path {path}. (Source path points to a folder.)\")\n",
    "    return id"
   ]
  },
  {
   "cell_type": "code",
   "execution_count": 92,
   "metadata": {},
   "outputs": [],
   "source": [
    "def download(remote, local):\n",
    "    node_id = get_node_id(remote)\n",
    "    api = \"/nodes/files/#{node_id}/downloads\"\n",
    "    url = f\"{conf['url']}{path}{api}\"\n",
    "    headers = {'X-Sds-Auth-Token': token}\n",
    "    res = requests.get(url, headers=headers, stream=True)\n",
    "    res.raw.decode_content = True\n",
    "    with open(local, 'wb') as f:\n",
    "        shutil.copyfileobj(res.raw, f)"
   ]
  },
  {
   "cell_type": "code",
   "execution_count": 93,
   "metadata": {},
   "outputs": [],
   "source": [
    "files = [\n",
    "    '404.jpg',\n",
    "    'alt_world.jpeg',\n",
    "    'bad_code.png',\n",
    "    'fixing_problems.png',\n",
    "    'geekandpoke_deadline.jpg',\n",
    "    'jira.jpg',\n",
    "    'testing.png',\n",
    "    'The_New_Developer.jpg',\n",
    "    'toggl-how-to-create-horse-with-programming.jpg']\n",
    "\n",
    "for file in files:\n",
    "    download(f\"hackaburg/{file}\", f\"data/{file}\")"
   ]
  },
  {
   "cell_type": "code",
   "execution_count": null,
   "metadata": {},
   "outputs": [],
   "source": []
  }
 ],
 "metadata": {
  "kernelspec": {
   "display_name": "Python 3",
   "language": "python",
   "name": "python3"
  },
  "language_info": {
   "codemirror_mode": {
    "name": "ipython",
    "version": 3
   },
   "file_extension": ".py",
   "mimetype": "text/x-python",
   "name": "python",
   "nbconvert_exporter": "python",
   "pygments_lexer": "ipython3",
   "version": "3.6.4"
  }
 },
 "nbformat": 4,
 "nbformat_minor": 2
}
