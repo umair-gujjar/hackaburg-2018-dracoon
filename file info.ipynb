{
 "cells": [
  {
   "cell_type": "code",
   "execution_count": 18,
   "metadata": {},
   "outputs": [],
   "source": [
    "# https://github.com/ahupp/python-magic\n",
    "import sys, os\n",
    "import magic"
   ]
  },
  {
   "cell_type": "code",
   "execution_count": 19,
   "metadata": {},
   "outputs": [],
   "source": [
    "path = '/Users/john/Documents'\n",
    "entries = os.listdir(path)"
   ]
  },
  {
   "cell_type": "code",
   "execution_count": 20,
   "metadata": {},
   "outputs": [
    {
     "name": "stdout",
     "output_type": "stream",
     "text": [
      "/Users/john/Documents/MIT-Mathematics-for-Computer-Science.pdf IS OF TYPE PDF document, version 1.5\n",
      "/Users/john/Documents/LIBS_N_APPS.text IS OF TYPE ASCII text\n",
      "/Users/john/Documents/policy.json IS OF TYPE ASCII text\n",
      "/Users/john/Documents/svn_authors.text IS OF TYPE ASCII text\n",
      "/Users/john/Documents/MYSQL.text IS OF TYPE ASCII text\n",
      "/Users/john/Documents/random_vault.crap IS OF TYPE ASCII text\n",
      "/Users/john/Documents/.DS_Store IS OF TYPE Apple Desktop Services Store\n",
      "/Users/john/Documents/VAULT_PROD.text IS OF TYPE ASCII text\n",
      "/Users/john/Documents/.localized IS OF TYPE empty\n",
      "/Users/john/Documents/macbuildslave02.text IS OF TYPE X1 archive data\n",
      "/Users/john/Documents/shitbucket IS OF TYPE ASCII text\n",
      "/Users/john/Documents/passwords.txt IS OF TYPE ASCII text\n",
      "/Users/john/Documents/install-tools.sh IS OF TYPE Bourne-Again shell script, ASCII text executable\n",
      "/Users/john/Documents/sublime.license IS OF TYPE ASCII text\n",
      "/Users/john/Documents/rsyslog.repo IS OF TYPE ASCII text, with no line terminators\n",
      "/Users/john/Documents/svn-users.text IS OF TYPE ASCII text\n",
      "/Users/john/Documents/SETUP_JASMIN_MACHINE.text IS OF TYPE ASCII text\n",
      "/Users/john/Documents/artifactory.text IS OF TYPE ASCII text\n",
      "/Users/john/Documents/vault.text IS OF TYPE ASCII text\n",
      "/Users/john/Documents/firewalld.text IS OF TYPE ASCII text\n",
      "/Users/john/Documents/acl.hcl IS OF TYPE ASCII text\n",
      "/Users/john/Documents/UX.TODO.text IS OF TYPE ASCII text\n",
      "/Users/john/Documents/capistrano-passenger IS OF TYPE ASCII text\n",
      "/Users/john/Documents/jenkins_2018-01-31.tar IS OF TYPE POSIX tar archive (GNU)\n",
      "/Users/john/Documents/texting_workshop.text IS OF TYPE UTF-8 Unicode text\n",
      "/Users/john/Documents/suger-accounts-export-FIXED.numbers IS OF TYPE Zip archive data, at least v2.0 to extract\n",
      "/Users/john/Documents/TODOS.text IS OF TYPE ASCII text\n",
      "/Users/john/Documents/DEPLOYMENT_TODO.text IS OF TYPE ASCII text\n",
      "/Users/john/Documents/ios_developer_acc.kdbx IS OF TYPE Keepass password database 2.x KDBX\n",
      "/Users/john/Documents/packagewrangling.text IS OF TYPE ASCII text\n",
      "/Users/john/Documents/Minio.text IS OF TYPE ASCII text\n",
      "/Users/john/Documents/asplos15-memory-safe-c.pdf IS OF TYPE PDF document, version 1.5\n",
      "/Users/john/Documents/PACKT.rebate IS OF TYPE ASCII text\n",
      "/Users/john/Documents/git.text IS OF TYPE UTF-8 Unicode text\n",
      "/Users/john/Documents/JUC-2015-USEast-Job-Builder-LiVigni.pdf IS OF TYPE PDF document, version 1.4\n",
      "/Users/john/Documents/desktop.ini IS OF TYPE Little-endian UTF-16 Unicode text, with CRLF, CR line terminators\n",
      "/Users/john/Documents/passwords.text IS OF TYPE ASCII text\n",
      "/Users/john/Documents/bookmarks.text IS OF TYPE UTF-8 Unicode text\n",
      "/Users/john/Documents/jenkins-job-builder.pdf IS OF TYPE PDF document, version 1.5\n",
      "/Users/john/Documents/SOLID_cheatsheet.pdf IS OF TYPE PDF document, version 1.4\n",
      "/Users/john/Documents/suger-accounts-export-on-1525357092.numbers IS OF TYPE Zip archive data, at least v2.0 to extract\n",
      "/Users/john/Documents/TO-LEARN.org IS OF TYPE ASCII text\n",
      "/Users/john/Documents/openid.server.text IS OF TYPE UTF-8 Unicode text\n",
      "/Users/john/Documents/2017-06-14 SSP Europe English Datenschutz-Cookies-AdSense[4].docx IS OF TYPE Microsoft Word 2007+\n",
      "/Users/john/Documents/INFO.text IS OF TYPE ASCII text\n",
      "/Users/john/Documents/COM.text IS OF TYPE ASCII text\n",
      "/Users/john/Documents/sprint_2_todos IS OF TYPE ASCII text\n",
      "/Users/john/Documents/TEXTSTOREAD.text IS OF TYPE UTF-8 Unicode text\n",
      "/Users/john/Documents/brochure.indd IS OF TYPE Adobe InDesign Document\n",
      "/Users/john/Documents/Tableau-Invoice-IN-3799869.pdf IS OF TYPE PDF document, version 1.4\n",
      "/Users/john/Documents/interfaces IS OF TYPE ASCII text\n",
      "/Users/john/Documents/gitmigration IS OF TYPE UTF-8 Unicode text\n"
     ]
    }
   ],
   "source": [
    "for entry in entries:\n",
    "    if os.path.isfile(f\"{path}/{entry}\"):\n",
    "        info = magic.from_file(f\"{path}/{entry}\")\n",
    "        print(f\"{path}/{entry} IS OF TYPE {info}\")"
   ]
  },
  {
   "cell_type": "code",
   "execution_count": null,
   "metadata": {},
   "outputs": [],
   "source": []
  }
 ],
 "metadata": {
  "kernelspec": {
   "display_name": "Python 3",
   "language": "python",
   "name": "python3"
  },
  "language_info": {
   "codemirror_mode": {
    "name": "ipython",
    "version": 3
   },
   "file_extension": ".py",
   "mimetype": "text/x-python",
   "name": "python",
   "nbconvert_exporter": "python",
   "pygments_lexer": "ipython3",
   "version": "3.6.4"
  }
 },
 "nbformat": 4,
 "nbformat_minor": 2
}
