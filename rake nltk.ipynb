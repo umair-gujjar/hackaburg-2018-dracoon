{
 "cells": [
  {
   "cell_type": "code",
   "execution_count": 1,
   "metadata": {},
   "outputs": [],
   "source": [
    "# https://github.com/csurfer/rake-nltk\n",
    "# https://github.com/Alir3z4/python-stop-words\n",
    "# http://sujitpal.blogspot.de/2013/03/implementing-rake-algorithm-with-nltk.html\n",
    "import os, sys\n",
    "from stop_words import get_stop_words\n",
    "from rake_nltk import Rake"
   ]
  },
  {
   "cell_type": "code",
   "execution_count": 6,
   "metadata": {},
   "outputs": [],
   "source": [
    "stop_words_de = get_stop_words('de')"
   ]
  },
  {
   "cell_type": "code",
   "execution_count": 17,
   "metadata": {},
   "outputs": [],
   "source": [
    "en = Rake()\n",
    "de = Rake(language='German')\n",
    "custom_de = Rake(stopwords=stop_words_de)"
   ]
  },
  {
   "cell_type": "code",
   "execution_count": 18,
   "metadata": {},
   "outputs": [],
   "source": [
    "poe = '''Once upon a midnight dreary, while I pondered, weak and weary,\n",
    "Over many a quaint and curious volume of forgotten lore—\n",
    "    While I nodded, nearly napping, suddenly there came a tapping,\n",
    "As of some one gently rapping, rapping at my chamber door.\n",
    "“’Tis some visitor,” I muttered, “tapping at my chamber door—\n",
    "            Only this and nothing more.”\n",
    "\n",
    "    Ah, distinctly I remember it was in the bleak December;\n",
    "And each separate dying ember wrought its ghost upon the floor.\n",
    "    Eagerly I wished the morrow;—vainly I had sought to borrow\n",
    "    From my books surcease of sorrow—sorrow for the lost Lenore—\n",
    "For the rare and radiant maiden whom the angels name Lenore—\n",
    "            Nameless here for evermore.\n",
    "\n",
    "    And the silken, sad, uncertain rustling of each purple curtain\n",
    "Thrilled me—filled me with fantastic terrors never felt before;\n",
    "    So that now, to still the beating of my heart, I stood repeating\n",
    "    “’Tis some visitor entreating entrance at my chamber door—\n",
    "Some late visitor entreating entrance at my chamber door;—\n",
    "            This it is and nothing more.”\n",
    "\n",
    "    Presently my soul grew stronger; hesitating then no longer,\n",
    "“Sir,” said I, “or Madam, truly your forgiveness I implore;\n",
    "    But the fact is I was napping, and so gently you came rapping,\n",
    "    And so faintly you came tapping, tapping at my chamber door,\n",
    "That I scarce was sure I heard you”—here I opened wide the door;—\n",
    "            Darkness there and nothing more.'''\n",
    "\n",
    "kant = '''Bei dieser wichtigen Veränderung im Felde der Wissenschaften, und dem Verluste, \n",
    "den spekulative Vernunft an ihrem bisher eingebildeten Besitze erleiden muß, bleibt dennoch alles \n",
    "mit der allgemeinen menschlichen Angelegenheit, und dem Nutzen, den die Welt bisher aus den Lehren \n",
    "der reinen Vernunft zog, in demselben vorteilhaften Zustande, als es jemalen war, und der Verlust \n",
    "trifft nur das Monopol der Schulen, keineswegs aber das Interesse der Menschen. Ich frage den \n",
    "unbiegsamsten Dogmatiker, ob der Beweis von der Fortdauer unserer Seele nach dem Tode aus der \n",
    "Einfachheit der Substanz, ob der von der Freiheit des Willens gegen den allgemeinen Mechanismus \n",
    "durch die subtilen, obzwar ohnmächtigen Unterscheidungen subjektiver und objektiver praktischer \n",
    "Notwendigkeit, oder ob der vom Dasein Gottes aus dem Begriffe eines allerrealsten Wesens, (der \n",
    "Zufälligkeit des Veränderlichen, und der Notwendigkeit eines ersten Bewegers,) nachdem sie von \n",
    "den Schulen ausgingen, jemals haben bis zum Publikum gelangen und auf dessen Überzeugung den \n",
    "mindesten Einfluß haben können? Ist dieses nun nicht geschehen, und kann es auch, wegen der \n",
    "Untauglichkeit des gemeinen Menschenverstandes zu so subtiler Spekulation, niemals erwartet werden; \n",
    "hat vielmehr, was das erstere betrifft, die jedem Menschen bemerkliche Anlage seiner Natur, durch \n",
    "das Zeitliche (als zu den Anlagen seiner ganzen Bestimmung unzulänglich) nie zufrieden gestellt \n",
    "werden zu können, die Hoffnung eines künftigen Lebens, in Ansehung des zweiten die bloße klare \n",
    "Darstellung der Pflichten im Gegensatze aller Ansprüche der Neigungen das Bewußtsein der Freiheit, \n",
    "und endlich, was das dritte anlangt, die herrliche Ordnung, Schönheit und Fürsorge, die allerwärts \n",
    "in der Natur hervorblickt, allein den Glauben an einen weisen und großen Welturheber, die sich aufs \n",
    "Publikum verbreitende Überzeugung, sofern sie auf Vernunftgründen beruht, ganz allein bewirken müssen: \n",
    "so bleibt ja nicht allein dieser Besitz ungestört, sondern er gewinnt vielmehr dadurch noch an Ansehen, \n",
    "daß die Schulen nunmehr belehrt werden, sich keine höhere und ausgebreitetere Einsicht in einem Punkte \n",
    "anzumaßen, der die allgemeine menschliche Angelegenheit betrifft, als diejenige ist, zu der die große \n",
    "(für uns achtungswürdigste) Menge auch eben so leicht gelangen kann, und sich also auf die Kultur dieser \n",
    "allgemein faßlichen und in moralischer Absicht hinreichenden Beweisgründe allein einzuschränken. Die \n",
    "Veränderung betrifft also bloß die arroganten Ansprüche der Schulen, die sich gerne hierin (wie sonst \n",
    "mit Recht in vielen anderen Stücken) für die alleinigen Kenner und Aufbewahrer solcher Wahrheiten möchten \n",
    "halten lassen, von denen sie dem Publikum nur den Gebrauch mitteilen, den Schlüssel derselben aber für \n",
    "sich behalten (quod mecum nescit, solus vult scire videri). Gleichwohl ist doch auch für einen billigeren \n",
    "Anspruch des spekulativen Philosophen gesorgt. Er bleibt immer ausschließlich Depositär einer dem Publikum \n",
    "ohne dessen Wissen nützlichen Wissenschaft, nämlich der Kritik der Vernunft; denn die kann niemals populär \n",
    "werden, hat aber auch nicht nötig, es zu sein; weil, so wenig dem Volke die fein gesponnenen Argumente für \n",
    "nützliche Wahrheiten in den Kopf wollen, ebensowenig kommen ihm auch die eben so subtilen Einwürfe dagegen \n",
    "jemals in den Sinn; dagegen, weil die Schule, so wie jeder sich zur Spekulation erhebende Mensch, unvermeidlich \n",
    "in beide gerät, jene dazu verbunden ist, durch gründliche Untersuchung der Rechte der spekulativen Vernunft \n",
    "einmal für allemal dem Skandal vorzubeugen, das über kurz oder lang selbst dem Volke aus den Streitigkeiten \n",
    "aufstoßen muß, in welche sich Metaphysiker (und als solche endlich auch wohl Geistliche) ohne Kritik \n",
    "unausbleiblich verwickeln, und die selbst nachher ihre Lehren verfälschen. Durch diese kann nun allein dem \n",
    "Materialismus, Fatalismus, Atheismus, dem freigeisterischen Unglauben, der Schwärmerei und Aberglauben, die \n",
    "allgemein schädlich werden können, zuletzt auch dem Idealismus und Skeptizismus, die mehr den Schulen gefährlich \n",
    "sind und schwerlich ins Publikum übergehen können, selbst die Wurzel abgeschnitten werden. Wenn Regierungen sich \n",
    "ja mit Angelegenheiten der Gelehrten zu befassen gut finden, so würde es ihrer weisen Fürsorge für Wissenschaften \n",
    "sowohl als Menschen weit gemäßer sein, die Freiheit einer solchen Kritik zu begünstigen, wodurch die \n",
    "Vernunftbearbeitungen allein auf einen festen Fuß gebracht werden können, als den lächerlichen Despotismus der \n",
    "Schulen zu unterstützen, welche über öffentliche Gefahr ein lautes Geschrei erheben, wenn man ihre Spinneweben \n",
    "zerreißt, von denen doch das Publikum niemals Notiz genommen hat, und deren Verlust es also auch nie fühlen kann.'''"
   ]
  },
  {
   "cell_type": "code",
   "execution_count": 19,
   "metadata": {},
   "outputs": [
    {
     "name": "stdout",
     "output_type": "stream",
     "text": [
      "None\n",
      "None\n",
      "None\n"
     ]
    }
   ],
   "source": [
    "en_word_list = en.extract_keywords_from_text(poe)\n",
    "de_word_list = de.extract_keywords_from_text(kant)\n",
    "custom_de_word_list = custom_de.extract_keywords_from_text(kant)\n",
    "#de.get_ranked_phrases()\n",
    "#custom_de.get_ranked_phrases()\n",
    "print(de_word_list)\n",
    "print(custom_de_word_list)\n",
    "print(en_word_list)"
   ]
  },
  {
   "cell_type": "code",
   "execution_count": null,
   "metadata": {},
   "outputs": [],
   "source": []
  }
 ],
 "metadata": {
  "kernelspec": {
   "display_name": "Python 3",
   "language": "python",
   "name": "python3"
  },
  "language_info": {
   "codemirror_mode": {
    "name": "ipython",
    "version": 3
   },
   "file_extension": ".py",
   "mimetype": "text/x-python",
   "name": "python",
   "nbconvert_exporter": "python",
   "pygments_lexer": "ipython3",
   "version": "3.6.4"
  }
 },
 "nbformat": 4,
 "nbformat_minor": 2
}
